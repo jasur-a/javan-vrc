{
 "cells": [
  {
   "cell_type": "code",
   "execution_count": 93,
   "id": "cef1d9b5",
   "metadata": {},
   "outputs": [
    {
     "name": "stdout",
     "output_type": "stream",
     "text": [
      "Defaulting to user installation because normal site-packages is not writeable\n",
      "Requirement already satisfied: opencv-python in /Users/jasura/Library/Python/3.9/lib/python/site-packages (4.7.0.72)\n",
      "Requirement already satisfied: pyOpenSSL in /Users/jasura/Library/Python/3.9/lib/python/site-packages (23.1.0)\n",
      "Collecting pyOpenSSL\n",
      "  Downloading pyOpenSSL-23.1.1-py3-none-any.whl (57 kB)\n",
      "\u001b[2K     \u001b[90m━━━━━━━━━━━━━━━━━━━━━━━━━━━━━━━━━━━━━━━━\u001b[0m \u001b[32m57.9/57.9 kB\u001b[0m \u001b[31m1.8 MB/s\u001b[0m eta \u001b[36m0:00:00\u001b[0m\n",
      "\u001b[?25hRequirement already satisfied: youtube_dl in /Users/jasura/Library/Python/3.9/lib/python/site-packages (2021.12.17)\n",
      "Requirement already satisfied: install in /Users/jasura/Library/Python/3.9/lib/python/site-packages (1.3.5)\n",
      "Requirement already satisfied: pafy in /Users/jasura/Library/Python/3.9/lib/python/site-packages (0.5.5)\n",
      "Requirement already satisfied: pytube in /Users/jasura/Library/Python/3.9/lib/python/site-packages (12.1.3)\n",
      "Requirement already satisfied: pytesseract in /Users/jasura/Library/Python/3.9/lib/python/site-packages (0.3.10)\n",
      "Requirement already satisfied: setuptools in /Users/jasura/Library/Python/3.9/lib/python/site-packages (67.6.0)\n",
      "Collecting setuptools\n",
      "  Downloading setuptools-67.6.1-py3-none-any.whl (1.1 MB)\n",
      "\u001b[2K     \u001b[90m━━━━━━━━━━━━━━━━━━━━━━━━━━━━━━━━━━━━━━━━\u001b[0m \u001b[32m1.1/1.1 MB\u001b[0m \u001b[31m14.8 MB/s\u001b[0m eta \u001b[36m0:00:00\u001b[0ma \u001b[36m0:00:01\u001b[0m\n",
      "\u001b[?25hRequirement already satisfied: wheel in /Users/jasura/Library/Python/3.9/lib/python/site-packages (0.40.0)\n",
      "Requirement already satisfied: spacy in /Users/jasura/Library/Python/3.9/lib/python/site-packages (3.5.1)\n",
      "Requirement already satisfied: numpy>=1.17.0 in /Users/jasura/Library/Python/3.9/lib/python/site-packages (from opencv-python) (1.24.2)\n",
      "Requirement already satisfied: cryptography<41,>=38.0.0 in /Users/jasura/Library/Python/3.9/lib/python/site-packages (from pyOpenSSL) (39.0.2)\n",
      "Requirement already satisfied: Pillow>=8.0.0 in /Users/jasura/Library/Python/3.9/lib/python/site-packages (from pytesseract) (9.4.0)\n",
      "Requirement already satisfied: packaging>=21.3 in /Users/jasura/Library/Python/3.9/lib/python/site-packages (from pytesseract) (23.0)\n",
      "Requirement already satisfied: spacy-legacy<3.1.0,>=3.0.11 in /Users/jasura/Library/Python/3.9/lib/python/site-packages (from spacy) (3.0.12)\n",
      "Requirement already satisfied: catalogue<2.1.0,>=2.0.6 in /Users/jasura/Library/Python/3.9/lib/python/site-packages (from spacy) (2.0.8)\n",
      "Requirement already satisfied: typer<0.8.0,>=0.3.0 in /Users/jasura/Library/Python/3.9/lib/python/site-packages (from spacy) (0.7.0)\n",
      "Requirement already satisfied: murmurhash<1.1.0,>=0.28.0 in /Users/jasura/Library/Python/3.9/lib/python/site-packages (from spacy) (1.0.9)\n",
      "Requirement already satisfied: thinc<8.2.0,>=8.1.8 in /Users/jasura/Library/Python/3.9/lib/python/site-packages (from spacy) (8.1.9)\n",
      "Requirement already satisfied: requests<3.0.0,>=2.13.0 in /Users/jasura/Library/Python/3.9/lib/python/site-packages (from spacy) (2.28.2)\n",
      "Requirement already satisfied: tqdm<5.0.0,>=4.38.0 in /Users/jasura/Library/Python/3.9/lib/python/site-packages (from spacy) (4.65.0)\n",
      "Requirement already satisfied: preshed<3.1.0,>=3.0.2 in /Users/jasura/Library/Python/3.9/lib/python/site-packages (from spacy) (3.0.8)\n",
      "Requirement already satisfied: smart-open<7.0.0,>=5.2.1 in /Users/jasura/Library/Python/3.9/lib/python/site-packages (from spacy) (6.3.0)\n",
      "Requirement already satisfied: pathy>=0.10.0 in /Users/jasura/Library/Python/3.9/lib/python/site-packages (from spacy) (0.10.1)\n",
      "Requirement already satisfied: srsly<3.0.0,>=2.4.3 in /Users/jasura/Library/Python/3.9/lib/python/site-packages (from spacy) (2.4.6)\n",
      "Requirement already satisfied: spacy-loggers<2.0.0,>=1.0.0 in /Users/jasura/Library/Python/3.9/lib/python/site-packages (from spacy) (1.0.4)\n",
      "Requirement already satisfied: cymem<2.1.0,>=2.0.2 in /Users/jasura/Library/Python/3.9/lib/python/site-packages (from spacy) (2.0.7)\n",
      "Requirement already satisfied: langcodes<4.0.0,>=3.2.0 in /Users/jasura/Library/Python/3.9/lib/python/site-packages (from spacy) (3.3.0)\n",
      "Requirement already satisfied: wasabi<1.2.0,>=0.9.1 in /Users/jasura/Library/Python/3.9/lib/python/site-packages (from spacy) (1.1.1)\n",
      "Requirement already satisfied: pydantic!=1.8,!=1.8.1,<1.11.0,>=1.7.4 in /Users/jasura/Library/Python/3.9/lib/python/site-packages (from spacy) (1.10.7)\n",
      "Requirement already satisfied: jinja2 in /Users/jasura/Library/Python/3.9/lib/python/site-packages (from spacy) (3.1.2)\n",
      "Requirement already satisfied: cffi>=1.12 in /Users/jasura/Library/Python/3.9/lib/python/site-packages (from cryptography<41,>=38.0.0->pyOpenSSL) (1.15.1)\n",
      "Requirement already satisfied: typing-extensions>=4.2.0 in /Users/jasura/Library/Python/3.9/lib/python/site-packages (from pydantic!=1.8,!=1.8.1,<1.11.0,>=1.7.4->spacy) (4.5.0)\n",
      "Requirement already satisfied: urllib3<1.27,>=1.21.1 in /Users/jasura/Library/Python/3.9/lib/python/site-packages (from requests<3.0.0,>=2.13.0->spacy) (1.26.15)\n",
      "Requirement already satisfied: idna<4,>=2.5 in /Users/jasura/Library/Python/3.9/lib/python/site-packages (from requests<3.0.0,>=2.13.0->spacy) (3.4)\n",
      "Requirement already satisfied: charset-normalizer<4,>=2 in /Users/jasura/Library/Python/3.9/lib/python/site-packages (from requests<3.0.0,>=2.13.0->spacy) (3.1.0)\n",
      "Requirement already satisfied: certifi>=2017.4.17 in /Users/jasura/Library/Python/3.9/lib/python/site-packages (from requests<3.0.0,>=2.13.0->spacy) (2022.12.7)\n",
      "Requirement already satisfied: confection<1.0.0,>=0.0.1 in /Users/jasura/Library/Python/3.9/lib/python/site-packages (from thinc<8.2.0,>=8.1.8->spacy) (0.0.4)\n",
      "Requirement already satisfied: blis<0.8.0,>=0.7.8 in /Users/jasura/Library/Python/3.9/lib/python/site-packages (from thinc<8.2.0,>=8.1.8->spacy) (0.7.9)\n",
      "Requirement already satisfied: click<9.0.0,>=7.1.1 in /Users/jasura/Library/Python/3.9/lib/python/site-packages (from typer<0.8.0,>=0.3.0->spacy) (8.1.3)\n",
      "Requirement already satisfied: MarkupSafe>=2.0 in /Users/jasura/Library/Python/3.9/lib/python/site-packages (from jinja2->spacy) (2.1.2)\n",
      "Requirement already satisfied: pycparser in /Users/jasura/Library/Python/3.9/lib/python/site-packages (from cffi>=1.12->cryptography<41,>=38.0.0->pyOpenSSL) (2.21)\n",
      "Installing collected packages: setuptools, pyOpenSSL\n",
      "  Attempting uninstall: setuptools\n",
      "    Found existing installation: setuptools 67.6.0\n",
      "    Uninstalling setuptools-67.6.0:\n",
      "      Successfully uninstalled setuptools-67.6.0\n",
      "  Attempting uninstall: pyOpenSSL\n",
      "    Found existing installation: pyOpenSSL 23.1.0\n",
      "    Uninstalling pyOpenSSL-23.1.0:\n",
      "      Successfully uninstalled pyOpenSSL-23.1.0\n",
      "Successfully installed pyOpenSSL-23.1.1 setuptools-67.6.1\n",
      "Note: you may need to restart the kernel to use updated packages.\n"
     ]
    }
   ],
   "source": [
    "pip install opencv-python pyOpenSSL --upgrade --upgrade youtube_dl install pafy install pytube pytesseract setuptools wheel spacy"
   ]
  },
  {
   "cell_type": "code",
   "execution_count": 4,
   "id": "009d6faf",
   "metadata": {},
   "outputs": [
    {
     "name": "stdout",
     "output_type": "stream",
     "text": [
      "Defaulting to user installation because normal site-packages is not writeable\n",
      "Collecting es-core-news-sm==3.5.0\n",
      "  Downloading https://github.com/explosion/spacy-models/releases/download/es_core_news_sm-3.5.0/es_core_news_sm-3.5.0-py3-none-any.whl (12.9 MB)\n",
      "\u001b[2K     \u001b[90m━━━━━━━━━━━━━━━━━━━━━━━━━━━━━━━━━━━━━━━━\u001b[0m \u001b[32m12.9/12.9 MB\u001b[0m \u001b[31m20.3 MB/s\u001b[0m eta \u001b[36m0:00:00\u001b[0m00:01\u001b[0m00:01\u001b[0m\n",
      "\u001b[?25hRequirement already satisfied: spacy<3.6.0,>=3.5.0 in /Users/jasura/Library/Python/3.9/lib/python/site-packages (from es-core-news-sm==3.5.0) (3.5.1)\n",
      "Requirement already satisfied: srsly<3.0.0,>=2.4.3 in /Users/jasura/Library/Python/3.9/lib/python/site-packages (from spacy<3.6.0,>=3.5.0->es-core-news-sm==3.5.0) (2.4.6)\n",
      "Requirement already satisfied: murmurhash<1.1.0,>=0.28.0 in /Users/jasura/Library/Python/3.9/lib/python/site-packages (from spacy<3.6.0,>=3.5.0->es-core-news-sm==3.5.0) (1.0.9)\n",
      "Requirement already satisfied: spacy-legacy<3.1.0,>=3.0.11 in /Users/jasura/Library/Python/3.9/lib/python/site-packages (from spacy<3.6.0,>=3.5.0->es-core-news-sm==3.5.0) (3.0.12)\n",
      "Requirement already satisfied: cymem<2.1.0,>=2.0.2 in /Users/jasura/Library/Python/3.9/lib/python/site-packages (from spacy<3.6.0,>=3.5.0->es-core-news-sm==3.5.0) (2.0.7)\n",
      "Requirement already satisfied: pathy>=0.10.0 in /Users/jasura/Library/Python/3.9/lib/python/site-packages (from spacy<3.6.0,>=3.5.0->es-core-news-sm==3.5.0) (0.10.1)\n",
      "Requirement already satisfied: pydantic!=1.8,!=1.8.1,<1.11.0,>=1.7.4 in /Users/jasura/Library/Python/3.9/lib/python/site-packages (from spacy<3.6.0,>=3.5.0->es-core-news-sm==3.5.0) (1.10.7)\n",
      "Requirement already satisfied: typer<0.8.0,>=0.3.0 in /Users/jasura/Library/Python/3.9/lib/python/site-packages (from spacy<3.6.0,>=3.5.0->es-core-news-sm==3.5.0) (0.7.0)\n",
      "Requirement already satisfied: tqdm<5.0.0,>=4.38.0 in /Users/jasura/Library/Python/3.9/lib/python/site-packages (from spacy<3.6.0,>=3.5.0->es-core-news-sm==3.5.0) (4.65.0)\n",
      "Requirement already satisfied: spacy-loggers<2.0.0,>=1.0.0 in /Users/jasura/Library/Python/3.9/lib/python/site-packages (from spacy<3.6.0,>=3.5.0->es-core-news-sm==3.5.0) (1.0.4)\n",
      "Requirement already satisfied: requests<3.0.0,>=2.13.0 in /Users/jasura/Library/Python/3.9/lib/python/site-packages (from spacy<3.6.0,>=3.5.0->es-core-news-sm==3.5.0) (2.28.2)\n",
      "Requirement already satisfied: catalogue<2.1.0,>=2.0.6 in /Users/jasura/Library/Python/3.9/lib/python/site-packages (from spacy<3.6.0,>=3.5.0->es-core-news-sm==3.5.0) (2.0.8)\n",
      "Requirement already satisfied: smart-open<7.0.0,>=5.2.1 in /Users/jasura/Library/Python/3.9/lib/python/site-packages (from spacy<3.6.0,>=3.5.0->es-core-news-sm==3.5.0) (6.3.0)\n",
      "Requirement already satisfied: thinc<8.2.0,>=8.1.8 in /Users/jasura/Library/Python/3.9/lib/python/site-packages (from spacy<3.6.0,>=3.5.0->es-core-news-sm==3.5.0) (8.1.9)\n",
      "Requirement already satisfied: jinja2 in /Users/jasura/Library/Python/3.9/lib/python/site-packages (from spacy<3.6.0,>=3.5.0->es-core-news-sm==3.5.0) (3.1.2)\n",
      "Requirement already satisfied: packaging>=20.0 in /Users/jasura/Library/Python/3.9/lib/python/site-packages (from spacy<3.6.0,>=3.5.0->es-core-news-sm==3.5.0) (23.0)\n",
      "Requirement already satisfied: langcodes<4.0.0,>=3.2.0 in /Users/jasura/Library/Python/3.9/lib/python/site-packages (from spacy<3.6.0,>=3.5.0->es-core-news-sm==3.5.0) (3.3.0)\n",
      "Requirement already satisfied: preshed<3.1.0,>=3.0.2 in /Users/jasura/Library/Python/3.9/lib/python/site-packages (from spacy<3.6.0,>=3.5.0->es-core-news-sm==3.5.0) (3.0.8)\n",
      "Requirement already satisfied: wasabi<1.2.0,>=0.9.1 in /Users/jasura/Library/Python/3.9/lib/python/site-packages (from spacy<3.6.0,>=3.5.0->es-core-news-sm==3.5.0) (1.1.1)\n",
      "Requirement already satisfied: setuptools in /Users/jasura/Library/Python/3.9/lib/python/site-packages (from spacy<3.6.0,>=3.5.0->es-core-news-sm==3.5.0) (67.6.0)\n",
      "Requirement already satisfied: numpy>=1.15.0 in /Users/jasura/Library/Python/3.9/lib/python/site-packages (from spacy<3.6.0,>=3.5.0->es-core-news-sm==3.5.0) (1.24.2)\n",
      "Requirement already satisfied: typing-extensions>=4.2.0 in /Users/jasura/Library/Python/3.9/lib/python/site-packages (from pydantic!=1.8,!=1.8.1,<1.11.0,>=1.7.4->spacy<3.6.0,>=3.5.0->es-core-news-sm==3.5.0) (4.5.0)\n",
      "Requirement already satisfied: certifi>=2017.4.17 in /Users/jasura/Library/Python/3.9/lib/python/site-packages (from requests<3.0.0,>=2.13.0->spacy<3.6.0,>=3.5.0->es-core-news-sm==3.5.0) (2022.12.7)\n",
      "Requirement already satisfied: idna<4,>=2.5 in /Users/jasura/Library/Python/3.9/lib/python/site-packages (from requests<3.0.0,>=2.13.0->spacy<3.6.0,>=3.5.0->es-core-news-sm==3.5.0) (3.4)\n",
      "Requirement already satisfied: charset-normalizer<4,>=2 in /Users/jasura/Library/Python/3.9/lib/python/site-packages (from requests<3.0.0,>=2.13.0->spacy<3.6.0,>=3.5.0->es-core-news-sm==3.5.0) (3.1.0)\n",
      "Requirement already satisfied: urllib3<1.27,>=1.21.1 in /Users/jasura/Library/Python/3.9/lib/python/site-packages (from requests<3.0.0,>=2.13.0->spacy<3.6.0,>=3.5.0->es-core-news-sm==3.5.0) (1.26.15)\n",
      "Requirement already satisfied: confection<1.0.0,>=0.0.1 in /Users/jasura/Library/Python/3.9/lib/python/site-packages (from thinc<8.2.0,>=8.1.8->spacy<3.6.0,>=3.5.0->es-core-news-sm==3.5.0) (0.0.4)\n",
      "Requirement already satisfied: blis<0.8.0,>=0.7.8 in /Users/jasura/Library/Python/3.9/lib/python/site-packages (from thinc<8.2.0,>=8.1.8->spacy<3.6.0,>=3.5.0->es-core-news-sm==3.5.0) (0.7.9)\n",
      "Requirement already satisfied: click<9.0.0,>=7.1.1 in /Users/jasura/Library/Python/3.9/lib/python/site-packages (from typer<0.8.0,>=0.3.0->spacy<3.6.0,>=3.5.0->es-core-news-sm==3.5.0) (8.1.3)\n",
      "Requirement already satisfied: MarkupSafe>=2.0 in /Users/jasura/Library/Python/3.9/lib/python/site-packages (from jinja2->spacy<3.6.0,>=3.5.0->es-core-news-sm==3.5.0) (2.1.2)\n",
      "\u001b[38;5;2m✔ Download and installation successful\u001b[0m\n",
      "You can now load the package via spacy.load('es_core_news_sm')\n"
     ]
    }
   ],
   "source": [
    "!python3 -m spacy download es_core_news_lg"
   ]
  },
  {
   "cell_type": "code",
   "execution_count": 96,
   "id": "ff88b954",
   "metadata": {},
   "outputs": [],
   "source": [
    "import cv2\n",
    "import os\n",
    "import numpy as np\n",
    "import pytesseract\n",
    "from pytesseract import Output\n",
    "from pytube import YouTube\n",
    "\n",
    "import spacy\n",
    "import re"
   ]
  },
  {
   "cell_type": "code",
   "execution_count": 97,
   "id": "90ed6232",
   "metadata": {},
   "outputs": [],
   "source": [
    "import ssl\n",
    "ssl._create_default_https_context = ssl._create_unverified_context"
   ]
  },
  {
   "cell_type": "code",
   "execution_count": 99,
   "id": "9c72dec7",
   "metadata": {},
   "outputs": [],
   "source": [
    "class Video:\n",
    "    def __init__(self, path, url):\n",
    "        self.path = path\n",
    "        self.videoUrl = url\n",
    "        self.yt = self.Download()\n",
    "        #self.localUrl = ''\n",
    "        #self.yt = ''\n",
    "        \n",
    "    def Download(self):\n",
    "        #por ahora para archivos de internet\n",
    "        file = self.Network()\n",
    "        print(file)\n",
    "        return file\n",
    "\n",
    "    def Network(self):\n",
    "        yt = YouTube(self.videoUrl)\n",
    "        yt = yt.streams.filter(progressive=True, file_extension='mp4').order_by('resolution').desc().first()\n",
    "        if not os.path.exists(self.path):\n",
    "            os.makedirs(self.path)\n",
    "        localUrl = yt.download(self.path)\n",
    "        self.localUrl = localUrl\n",
    "        return yt\n",
    "\n",
    "#'https://www.youtube.com/watch?v=REAFtXGnpKU'\n"
   ]
  },
  {
   "cell_type": "code",
   "execution_count": 144,
   "id": "ef1a33c0",
   "metadata": {},
   "outputs": [],
   "source": [
    "nlp = spacy.load(\"es_core_news_lg\")\n",
    "\n",
    "# Verificamos si la palabra existe en el vocabulario del modelo\n",
    "def spanish_word(word):\n",
    "    if nlp.vocab.has_vector(word):\n",
    "        return True\n",
    "    else:\n",
    "        return False\n",
    "\n",
    "def word_validate(sentence):\n",
    "    doc_es = nlp(sentence)\n",
    "    words =  []\n",
    "\n",
    "    # Expresión regular que busca cualquier caracter que no sea una letra, número o espacio en blanco\n",
    "    patron = r'[^a-zA-Z1-9ñÑáéíóúÁÉÍÓÚüÜ\\d\\s/\\d.]'\n",
    "    validate = ['NUM', 'PUNCT']\n",
    "\n",
    "    for token in doc_es:\n",
    "\n",
    "        # Buscamos el patrón en el texto\n",
    "        res = re.search(patron, token.text)\n",
    "\n",
    "        # Si se encuentra algún símbolo devuelve True\n",
    "        is_symbol = res is not None\n",
    "\n",
    "        if not is_symbol:\n",
    "            if token.tag_ not in validate:\n",
    "\n",
    "                is_spanish = spanish_word(token.text)\n",
    "\n",
    "                if is_spanish :\n",
    "                    words.append(token.text)\n",
    "            else:\n",
    "                words.append(token.text)\n",
    "\n",
    "    return words\n"
   ]
  },
  {
   "cell_type": "code",
   "execution_count": 149,
   "id": "4550fccd",
   "metadata": {},
   "outputs": [
    {
     "name": "stdout",
     "output_type": "stream",
     "text": [
      "<Stream: itag=\"22\" mime_type=\"video/mp4\" res=\"720p\" fps=\"25fps\" vcodec=\"avc1.64001F\" acodec=\"mp4a.40.2\" progressive=\"True\" type=\"video\">\n"
     ]
    }
   ],
   "source": [
    "\n",
    "video = Video('C:/Users/jasura/Documents/maestria/seminario',\n",
    " 'https://www.youtube.com/watch?v=XE6epSyQrkw' )\n"
   ]
  },
  {
   "cell_type": "code",
   "execution_count": 102,
   "id": "75c66d35",
   "metadata": {},
   "outputs": [
    {
     "name": "stdout",
     "output_type": "stream",
     "text": [
      "Defaulting to user installation because normal site-packages is not writeable\n",
      "Requirement already satisfied: matplotlib in /Users/jasura/Library/Python/3.9/lib/python/site-packages (3.7.1)\n",
      "Requirement already satisfied: fonttools>=4.22.0 in /Users/jasura/Library/Python/3.9/lib/python/site-packages (from matplotlib) (4.39.2)\n",
      "Requirement already satisfied: importlib-resources>=3.2.0 in /Users/jasura/Library/Python/3.9/lib/python/site-packages (from matplotlib) (5.12.0)\n",
      "Requirement already satisfied: numpy>=1.20 in /Users/jasura/Library/Python/3.9/lib/python/site-packages (from matplotlib) (1.24.2)\n",
      "Requirement already satisfied: python-dateutil>=2.7 in /Users/jasura/Library/Python/3.9/lib/python/site-packages (from matplotlib) (2.8.2)\n",
      "Requirement already satisfied: cycler>=0.10 in /Users/jasura/Library/Python/3.9/lib/python/site-packages (from matplotlib) (0.11.0)\n",
      "Requirement already satisfied: kiwisolver>=1.0.1 in /Users/jasura/Library/Python/3.9/lib/python/site-packages (from matplotlib) (1.4.4)\n",
      "Requirement already satisfied: packaging>=20.0 in /Users/jasura/Library/Python/3.9/lib/python/site-packages (from matplotlib) (23.0)\n",
      "Requirement already satisfied: pyparsing>=2.3.1 in /Users/jasura/Library/Python/3.9/lib/python/site-packages (from matplotlib) (3.0.9)\n",
      "Requirement already satisfied: contourpy>=1.0.1 in /Users/jasura/Library/Python/3.9/lib/python/site-packages (from matplotlib) (1.0.7)\n",
      "Requirement already satisfied: pillow>=6.2.0 in /Users/jasura/Library/Python/3.9/lib/python/site-packages (from matplotlib) (9.4.0)\n",
      "Requirement already satisfied: zipp>=3.1.0 in /Users/jasura/Library/Python/3.9/lib/python/site-packages (from importlib-resources>=3.2.0->matplotlib) (3.12.0)\n",
      "Requirement already satisfied: six>=1.5 in /Applications/Xcode.app/Contents/Developer/Library/Frameworks/Python3.framework/Versions/3.9/lib/python3.9/site-packages (from python-dateutil>=2.7->matplotlib) (1.15.0)\n",
      "Note: you may need to restart the kernel to use updated packages.\n"
     ]
    }
   ],
   "source": [
    "pip install -U matplotlib"
   ]
  },
  {
   "cell_type": "code",
   "execution_count": 103,
   "id": "03e89847",
   "metadata": {},
   "outputs": [
    {
     "data": {
      "text/plain": [
       "'/Users/jasura/Documents/maestria/seminario/C:/Users/jasura/Documents/maestria/seminario/Masa para tacos wraps  Rapiditas Caseras - CUKit!.mp4'"
      ]
     },
     "execution_count": 103,
     "metadata": {},
     "output_type": "execute_result"
    }
   ],
   "source": [
    "video.localUrl"
   ]
  },
  {
   "cell_type": "code",
   "execution_count": 104,
   "id": "371e2b88",
   "metadata": {},
   "outputs": [],
   "source": [
    "from PIL import Image, ImageFilter, ImageEnhance\n",
    "import matplotlib.pyplot as plt"
   ]
  },
  {
   "cell_type": "code",
   "execution_count": 151,
   "id": "602c40ca",
   "metadata": {},
   "outputs": [],
   "source": [
    "cam = cv2.VideoCapture(video.localUrl)"
   ]
  },
  {
   "cell_type": "code",
   "execution_count": 134,
   "id": "b9b26a35",
   "metadata": {},
   "outputs": [],
   "source": [
    "def img_process(img):\n",
    "\n",
    "    #convertimos a RGB\n",
    "    color_coverted = cv2.cvtColor(img, cv2.COLOR_BGR2RGB)\n",
    "  \n",
    "    # Displaying the converted image\n",
    "    image = Image.fromarray(color_coverted)\n",
    "\n",
    "    # agregado de sharpness y contrast a la  imagen\n",
    "    enhancer1 = ImageEnhance.Sharpness(image)\n",
    "    enhancer2 = ImageEnhance.Contrast(image)\n",
    "    img_edit = enhancer1.enhance(20.0)\n",
    "    img_edit = enhancer2.enhance(1.5)\n",
    "\n",
    "    cv_img = cv2.cvtColor(np.array(img_edit), cv2.COLOR_RGB2BGR)\n",
    "\n",
    "    # Convertir la imagen a escala de grises\n",
    "    gray = cv2.cvtColor(cv_img, cv2.COLOR_BGR2GRAY)\n",
    "    \n",
    "    # Aplicar una operación morfológica para eliminar el ruido\n",
    "    kernel = np.ones((3,3), np.uint8)\n",
    "    opening = cv2.morphologyEx(gray, cv2.MORPH_OPEN, kernel)\n",
    "    \n",
    "    # Aplicar una operación de threshold para aumentar el contraste\n",
    "    thresh = cv2.threshold(opening, 200, 255, cv2.THRESH_BINARY_INV)[1]\n",
    "    #plt.imshow(thresh);\n",
    "    # Encontrar contornos en la imagen thresholdada\n",
    "    contours, hierarchy = cv2.findContours(thresh, cv2.RETR_EXTERNAL, cv2.CHAIN_APPROX_SIMPLE)\n",
    "    \n",
    "    # Inicializar una lista para almacenar los rectángulos que contienen el texto\n",
    "    rects = []\n",
    "    \n",
    "    # Recorrer cada contorno\n",
    "    for cnt in contours:\n",
    "        # Obtener el rectángulo que encierra el contorno\n",
    "        x, y, w, h = cv2.boundingRect(cnt)\n",
    "        \n",
    "        # Agregar el rectángulo a la lista si cumple con ciertos criterios\n",
    "        if w > 50 and h > 50:\n",
    "            rects.append((x, y, w, h))\n",
    "\n",
    "\n",
    "    # Recorrer cada rectángulo\n",
    "    for rect in rects:\n",
    "        x, y, w, h = rect\n",
    "        roi = thresh[y:y+h, x:x+w]\n",
    "        \n",
    "    #convertimos a RGB\n",
    "    color_coverted = cv2.cvtColor(roi, cv2.COLOR_BGR2RGB)\n",
    "  \n",
    "    # Displaying the converted image\n",
    "    pil_image = Image.fromarray(color_coverted)\n",
    "\n",
    "    return pil_image"
   ]
  },
  {
   "cell_type": "code",
   "execution_count": 154,
   "id": "d6c82c96",
   "metadata": {},
   "outputs": [],
   "source": [
    "def extract_text_img(img):\n",
    "\n",
    "    # Inicializar una lista para almacenar el texto extraído\n",
    "    text = []\n",
    "    black_list = ['', ' ', ' \\n']\n",
    "\n",
    "    image = img_process(img)\n",
    "\n",
    "    # Utilizar OCR (Reconocimiento Óptico de Caracteres) para extraer el texto de la región de interés\n",
    "    ocr = pytesseract.image_to_string(image)\n",
    "\n",
    "    #print(ocr, len(ocr))\n",
    "\n",
    "    ocr_validate = word_validate(ocr)\n",
    "\n",
    "    if len(ocr_validate) == 0:\n",
    "        return None\n",
    "\n",
    "    #print(text)\n",
    "    return ' '.join(ocr_validate)\n"
   ]
  },
  {
   "cell_type": "code",
   "execution_count": 155,
   "id": "99c00ee5",
   "metadata": {},
   "outputs": [
    {
     "name": "stdout",
     "output_type": "stream",
     "text": [
      "  -  HARINA 0000 250GR . A.\n"
     ]
    },
    {
     "name": "stderr",
     "output_type": "stream",
     "text": [
      "/var/folders/fk/k827gpdx4qg96rvjc3n5s7b80000gn/T/ipykernel_2952/506074279.py:41: UserWarning: [W008] Evaluating Doc.similarity based on empty vectors.\n",
      "  similitud = pt.similarity(nt)\n"
     ]
    },
    {
     "name": "stdout",
     "output_type": "stream",
     "text": [
      "HARINA 0000 250GR . A.  -  A. HARINA 0000 250 GR .\n",
      "HARINA 0000 250GR . A.  -  HARINA 0000 250 GR .\n",
      "HARINA 0000 250 GR .  -  HARINA 0000 250GR .\n",
      "HARINA 0000 250GR .  -  HARINA 0000 250 GR .\n",
      "HARINA 0000 250 GR .  -  pa ta\n",
      "pa ta  -  Ay HARINA 0000 250 GR .\n",
      "Ay HARINA 0000 250 GR .  -  HARINA 0000 250 GR .\n",
      "Ay HARINA 0000 250 GR .  -  A HARINA 0000 250GR .\n",
      "A HARINA 0000 250GR .  -  HARINA 0000 250 GR . La\n",
      "HARINA 0000 250 GR . La  -  HARINA 0000 250 GR . e\n",
      "HARINA 0000 250 GR . e  -  HARINA 0000 250 GR . bd\n",
      "HARINA 0000 250 GR . e  -  HARINA 0000 250 GR . e\n"
     ]
    },
    {
     "ename": "KeyboardInterrupt",
     "evalue": "",
     "output_type": "error",
     "traceback": [
      "\u001b[0;31m---------------------------------------------------------------------------\u001b[0m",
      "\u001b[0;31mKeyboardInterrupt\u001b[0m                         Traceback (most recent call last)",
      "Cell \u001b[0;32mIn[155], line 31\u001b[0m\n\u001b[1;32m     28\u001b[0m     \u001b[39mcontinue\u001b[39;00m\n\u001b[1;32m     30\u001b[0m \u001b[39m# Utilizar funcion extract_text extraer el texto de la imagen\u001b[39;00m\n\u001b[0;32m---> 31\u001b[0m text \u001b[39m=\u001b[39m extract_text_img(frame)\n\u001b[1;32m     33\u001b[0m \u001b[39mif\u001b[39;00m text :\n\u001b[1;32m     35\u001b[0m     \u001b[39mprint\u001b[39m(prev_text,\u001b[39m\"\u001b[39m\u001b[39m - \u001b[39m\u001b[39m\"\u001b[39m, text)\n",
      "Cell \u001b[0;32mIn[154], line 10\u001b[0m, in \u001b[0;36mextract_text_img\u001b[0;34m(img)\u001b[0m\n\u001b[1;32m      7\u001b[0m image \u001b[39m=\u001b[39m img_process(img)\n\u001b[1;32m      9\u001b[0m \u001b[39m# Utilizar OCR (Reconocimiento Óptico de Caracteres) para extraer el texto de la región de interés\u001b[39;00m\n\u001b[0;32m---> 10\u001b[0m ocr \u001b[39m=\u001b[39m pytesseract\u001b[39m.\u001b[39;49mimage_to_string(image)\n\u001b[1;32m     12\u001b[0m \u001b[39m#print(ocr, len(ocr))\u001b[39;00m\n\u001b[1;32m     14\u001b[0m ocr_validate \u001b[39m=\u001b[39m word_validate(ocr)\n",
      "File \u001b[0;32m~/Library/Python/3.9/lib/python/site-packages/pytesseract/pytesseract.py:423\u001b[0m, in \u001b[0;36mimage_to_string\u001b[0;34m(image, lang, config, nice, output_type, timeout)\u001b[0m\n\u001b[1;32m    418\u001b[0m \u001b[39m\u001b[39m\u001b[39m\"\"\"\u001b[39;00m\n\u001b[1;32m    419\u001b[0m \u001b[39mReturns the result of a Tesseract OCR run on the provided image to string\u001b[39;00m\n\u001b[1;32m    420\u001b[0m \u001b[39m\"\"\"\u001b[39;00m\n\u001b[1;32m    421\u001b[0m args \u001b[39m=\u001b[39m [image, \u001b[39m'\u001b[39m\u001b[39mtxt\u001b[39m\u001b[39m'\u001b[39m, lang, config, nice, timeout]\n\u001b[0;32m--> 423\u001b[0m \u001b[39mreturn\u001b[39;00m {\n\u001b[1;32m    424\u001b[0m     Output\u001b[39m.\u001b[39;49mBYTES: \u001b[39mlambda\u001b[39;49;00m: run_and_get_output(\u001b[39m*\u001b[39;49m(args \u001b[39m+\u001b[39;49m [\u001b[39mTrue\u001b[39;49;00m])),\n\u001b[1;32m    425\u001b[0m     Output\u001b[39m.\u001b[39;49mDICT: \u001b[39mlambda\u001b[39;49;00m: {\u001b[39m'\u001b[39;49m\u001b[39mtext\u001b[39;49m\u001b[39m'\u001b[39;49m: run_and_get_output(\u001b[39m*\u001b[39;49margs)},\n\u001b[1;32m    426\u001b[0m     Output\u001b[39m.\u001b[39;49mSTRING: \u001b[39mlambda\u001b[39;49;00m: run_and_get_output(\u001b[39m*\u001b[39;49margs),\n\u001b[1;32m    427\u001b[0m }[output_type]()\n",
      "File \u001b[0;32m~/Library/Python/3.9/lib/python/site-packages/pytesseract/pytesseract.py:426\u001b[0m, in \u001b[0;36mimage_to_string.<locals>.<lambda>\u001b[0;34m()\u001b[0m\n\u001b[1;32m    418\u001b[0m \u001b[39m\u001b[39m\u001b[39m\"\"\"\u001b[39;00m\n\u001b[1;32m    419\u001b[0m \u001b[39mReturns the result of a Tesseract OCR run on the provided image to string\u001b[39;00m\n\u001b[1;32m    420\u001b[0m \u001b[39m\"\"\"\u001b[39;00m\n\u001b[1;32m    421\u001b[0m args \u001b[39m=\u001b[39m [image, \u001b[39m'\u001b[39m\u001b[39mtxt\u001b[39m\u001b[39m'\u001b[39m, lang, config, nice, timeout]\n\u001b[1;32m    423\u001b[0m \u001b[39mreturn\u001b[39;00m {\n\u001b[1;32m    424\u001b[0m     Output\u001b[39m.\u001b[39mBYTES: \u001b[39mlambda\u001b[39;00m: run_and_get_output(\u001b[39m*\u001b[39m(args \u001b[39m+\u001b[39m [\u001b[39mTrue\u001b[39;00m])),\n\u001b[1;32m    425\u001b[0m     Output\u001b[39m.\u001b[39mDICT: \u001b[39mlambda\u001b[39;00m: {\u001b[39m'\u001b[39m\u001b[39mtext\u001b[39m\u001b[39m'\u001b[39m: run_and_get_output(\u001b[39m*\u001b[39margs)},\n\u001b[0;32m--> 426\u001b[0m     Output\u001b[39m.\u001b[39mSTRING: \u001b[39mlambda\u001b[39;00m: run_and_get_output(\u001b[39m*\u001b[39;49margs),\n\u001b[1;32m    427\u001b[0m }[output_type]()\n",
      "File \u001b[0;32m~/Library/Python/3.9/lib/python/site-packages/pytesseract/pytesseract.py:288\u001b[0m, in \u001b[0;36mrun_and_get_output\u001b[0;34m(image, extension, lang, config, nice, timeout, return_bytes)\u001b[0m\n\u001b[1;32m    277\u001b[0m \u001b[39mwith\u001b[39;00m save(image) \u001b[39mas\u001b[39;00m (temp_name, input_filename):\n\u001b[1;32m    278\u001b[0m     kwargs \u001b[39m=\u001b[39m {\n\u001b[1;32m    279\u001b[0m         \u001b[39m'\u001b[39m\u001b[39minput_filename\u001b[39m\u001b[39m'\u001b[39m: input_filename,\n\u001b[1;32m    280\u001b[0m         \u001b[39m'\u001b[39m\u001b[39moutput_filename_base\u001b[39m\u001b[39m'\u001b[39m: temp_name,\n\u001b[0;32m   (...)\u001b[0m\n\u001b[1;32m    285\u001b[0m         \u001b[39m'\u001b[39m\u001b[39mtimeout\u001b[39m\u001b[39m'\u001b[39m: timeout,\n\u001b[1;32m    286\u001b[0m     }\n\u001b[0;32m--> 288\u001b[0m     run_tesseract(\u001b[39m*\u001b[39;49m\u001b[39m*\u001b[39;49mkwargs)\n\u001b[1;32m    289\u001b[0m     filename \u001b[39m=\u001b[39m \u001b[39mf\u001b[39m\u001b[39m\"\u001b[39m\u001b[39m{\u001b[39;00mkwargs[\u001b[39m'\u001b[39m\u001b[39moutput_filename_base\u001b[39m\u001b[39m'\u001b[39m]\u001b[39m}\u001b[39;00m\u001b[39m{\u001b[39;00mextsep\u001b[39m}\u001b[39;00m\u001b[39m{\u001b[39;00mextension\u001b[39m}\u001b[39;00m\u001b[39m\"\u001b[39m\n\u001b[1;32m    290\u001b[0m     \u001b[39mwith\u001b[39;00m \u001b[39mopen\u001b[39m(filename, \u001b[39m'\u001b[39m\u001b[39mrb\u001b[39m\u001b[39m'\u001b[39m) \u001b[39mas\u001b[39;00m output_file:\n",
      "File \u001b[0;32m~/Library/Python/3.9/lib/python/site-packages/pytesseract/pytesseract.py:262\u001b[0m, in \u001b[0;36mrun_tesseract\u001b[0;34m(input_filename, output_filename_base, extension, lang, config, nice, timeout)\u001b[0m\n\u001b[1;32m    259\u001b[0m     \u001b[39melse\u001b[39;00m:\n\u001b[1;32m    260\u001b[0m         \u001b[39mraise\u001b[39;00m TesseractNotFoundError()\n\u001b[0;32m--> 262\u001b[0m \u001b[39mwith\u001b[39;00m timeout_manager(proc, timeout) \u001b[39mas\u001b[39;00m error_string:\n\u001b[1;32m    263\u001b[0m     \u001b[39mif\u001b[39;00m proc\u001b[39m.\u001b[39mreturncode:\n\u001b[1;32m    264\u001b[0m         \u001b[39mraise\u001b[39;00m TesseractError(proc\u001b[39m.\u001b[39mreturncode, get_errors(error_string))\n",
      "File \u001b[0;32m/Applications/Xcode.app/Contents/Developer/Library/Frameworks/Python3.framework/Versions/3.9/lib/python3.9/contextlib.py:117\u001b[0m, in \u001b[0;36m_GeneratorContextManager.__enter__\u001b[0;34m(self)\u001b[0m\n\u001b[1;32m    115\u001b[0m \u001b[39mdel\u001b[39;00m \u001b[39mself\u001b[39m\u001b[39m.\u001b[39margs, \u001b[39mself\u001b[39m\u001b[39m.\u001b[39mkwds, \u001b[39mself\u001b[39m\u001b[39m.\u001b[39mfunc\n\u001b[1;32m    116\u001b[0m \u001b[39mtry\u001b[39;00m:\n\u001b[0;32m--> 117\u001b[0m     \u001b[39mreturn\u001b[39;00m \u001b[39mnext\u001b[39;49m(\u001b[39mself\u001b[39;49m\u001b[39m.\u001b[39;49mgen)\n\u001b[1;32m    118\u001b[0m \u001b[39mexcept\u001b[39;00m \u001b[39mStopIteration\u001b[39;00m:\n\u001b[1;32m    119\u001b[0m     \u001b[39mraise\u001b[39;00m \u001b[39mRuntimeError\u001b[39;00m(\u001b[39m\"\u001b[39m\u001b[39mgenerator didn\u001b[39m\u001b[39m'\u001b[39m\u001b[39mt yield\u001b[39m\u001b[39m\"\u001b[39m) \u001b[39mfrom\u001b[39;00m \u001b[39mNone\u001b[39m\n",
      "File \u001b[0;32m~/Library/Python/3.9/lib/python/site-packages/pytesseract/pytesseract.py:127\u001b[0m, in \u001b[0;36mtimeout_manager\u001b[0;34m(proc, seconds)\u001b[0m\n\u001b[1;32m    125\u001b[0m \u001b[39mtry\u001b[39;00m:\n\u001b[1;32m    126\u001b[0m     \u001b[39mif\u001b[39;00m \u001b[39mnot\u001b[39;00m seconds:\n\u001b[0;32m--> 127\u001b[0m         \u001b[39myield\u001b[39;00m proc\u001b[39m.\u001b[39;49mcommunicate()[\u001b[39m1\u001b[39m]\n\u001b[1;32m    128\u001b[0m         \u001b[39mreturn\u001b[39;00m\n\u001b[1;32m    130\u001b[0m     \u001b[39mtry\u001b[39;00m:\n",
      "File \u001b[0;32m/Applications/Xcode.app/Contents/Developer/Library/Frameworks/Python3.framework/Versions/3.9/lib/python3.9/subprocess.py:1134\u001b[0m, in \u001b[0;36mPopen.communicate\u001b[0;34m(self, input, timeout)\u001b[0m\n\u001b[1;32m   1131\u001b[0m     endtime \u001b[39m=\u001b[39m \u001b[39mNone\u001b[39;00m\n\u001b[1;32m   1133\u001b[0m \u001b[39mtry\u001b[39;00m:\n\u001b[0;32m-> 1134\u001b[0m     stdout, stderr \u001b[39m=\u001b[39m \u001b[39mself\u001b[39;49m\u001b[39m.\u001b[39;49m_communicate(\u001b[39minput\u001b[39;49m, endtime, timeout)\n\u001b[1;32m   1135\u001b[0m \u001b[39mexcept\u001b[39;00m \u001b[39mKeyboardInterrupt\u001b[39;00m:\n\u001b[1;32m   1136\u001b[0m     \u001b[39m# https://bugs.python.org/issue25942\u001b[39;00m\n\u001b[1;32m   1137\u001b[0m     \u001b[39m# See the detailed comment in .wait().\u001b[39;00m\n\u001b[1;32m   1138\u001b[0m     \u001b[39mif\u001b[39;00m timeout \u001b[39mis\u001b[39;00m \u001b[39mnot\u001b[39;00m \u001b[39mNone\u001b[39;00m:\n",
      "File \u001b[0;32m/Applications/Xcode.app/Contents/Developer/Library/Frameworks/Python3.framework/Versions/3.9/lib/python3.9/subprocess.py:1979\u001b[0m, in \u001b[0;36mPopen._communicate\u001b[0;34m(self, input, endtime, orig_timeout)\u001b[0m\n\u001b[1;32m   1972\u001b[0m     \u001b[39mself\u001b[39m\u001b[39m.\u001b[39m_check_timeout(endtime, orig_timeout,\n\u001b[1;32m   1973\u001b[0m                         stdout, stderr,\n\u001b[1;32m   1974\u001b[0m                         skip_check_and_raise\u001b[39m=\u001b[39m\u001b[39mTrue\u001b[39;00m)\n\u001b[1;32m   1975\u001b[0m     \u001b[39mraise\u001b[39;00m \u001b[39mRuntimeError\u001b[39;00m(  \u001b[39m# Impossible :)\u001b[39;00m\n\u001b[1;32m   1976\u001b[0m         \u001b[39m'\u001b[39m\u001b[39m_check_timeout(..., skip_check_and_raise=True) \u001b[39m\u001b[39m'\u001b[39m\n\u001b[1;32m   1977\u001b[0m         \u001b[39m'\u001b[39m\u001b[39mfailed to raise TimeoutExpired.\u001b[39m\u001b[39m'\u001b[39m)\n\u001b[0;32m-> 1979\u001b[0m ready \u001b[39m=\u001b[39m selector\u001b[39m.\u001b[39;49mselect(timeout)\n\u001b[1;32m   1980\u001b[0m \u001b[39mself\u001b[39m\u001b[39m.\u001b[39m_check_timeout(endtime, orig_timeout, stdout, stderr)\n\u001b[1;32m   1982\u001b[0m \u001b[39m# XXX Rewrite these to use non-blocking I/O on the file\u001b[39;00m\n\u001b[1;32m   1983\u001b[0m \u001b[39m# objects; they are no longer using C stdio!\u001b[39;00m\n",
      "File \u001b[0;32m/Applications/Xcode.app/Contents/Developer/Library/Frameworks/Python3.framework/Versions/3.9/lib/python3.9/selectors.py:416\u001b[0m, in \u001b[0;36m_PollLikeSelector.select\u001b[0;34m(self, timeout)\u001b[0m\n\u001b[1;32m    414\u001b[0m ready \u001b[39m=\u001b[39m []\n\u001b[1;32m    415\u001b[0m \u001b[39mtry\u001b[39;00m:\n\u001b[0;32m--> 416\u001b[0m     fd_event_list \u001b[39m=\u001b[39m \u001b[39mself\u001b[39;49m\u001b[39m.\u001b[39;49m_selector\u001b[39m.\u001b[39;49mpoll(timeout)\n\u001b[1;32m    417\u001b[0m \u001b[39mexcept\u001b[39;00m \u001b[39mInterruptedError\u001b[39;00m:\n\u001b[1;32m    418\u001b[0m     \u001b[39mreturn\u001b[39;00m ready\n",
      "\u001b[0;31mKeyboardInterrupt\u001b[0m: "
     ]
    }
   ],
   "source": [
    "\n",
    "complete_text = []\n",
    "prev_text = \"\"\n",
    "\n",
    "# Establecer un nivel mínimo de similitud exigido:\n",
    "nivel_minimo = 0.7\n",
    "\n",
    "\n",
    "\n",
    "while(cam.isOpened()):\n",
    "    # Leer el siguiente fotograma\n",
    "    ret, frame = cam.read()\n",
    "\n",
    "    # color_coverted = cv2.cvtColor(frame, cv2.COLOR_BGR2RGB)\n",
    "  \n",
    "    \n",
    "    # # Displaying the converted image\n",
    "    # pil_image = Image.fromarray(color_coverted)\n",
    "\n",
    "    # Si no hay más fotogramas, salir del bucle\n",
    "    if not ret:\n",
    "        break\n",
    "\n",
    "    # Validamos que la imagen no sea 100% negra\n",
    "    is_black = not np.any(frame)\n",
    "\n",
    "    #si la img es negra ignoramos\n",
    "    if is_black:\n",
    "        continue\n",
    "\n",
    "    # Utilizar funcion extract_text extraer el texto de la imagen\n",
    "    text = extract_text_img(frame)\n",
    "\n",
    "    if text :\n",
    "\n",
    "        print(prev_text,\" - \", text)\n",
    "        # Obtener el objeto Doc para cada texto:\n",
    "        pt = nlp(prev_text)\n",
    "        nt = nlp(text)\n",
    "\n",
    "        # Calcular la similitud entre los textos:\n",
    "        similitud = pt.similarity(nt)\n",
    "\n",
    "\n",
    "        if similitud >= nivel_minimo:\n",
    "            #print('Los textos son similares.')\n",
    "            continue\n",
    "        else:\n",
    "            #print('Los textos no son suficientemente similares.')\n",
    "            prev_text = text\n",
    "            complete_text.append(text)\n",
    "    \n",
    "    # Imprimir el texto extraído\n",
    "\n",
    "print(' '.join(complete_text))\n",
    "# Liberar la cámara\n",
    "cam.release()"
   ]
  }
 ],
 "metadata": {
  "kernelspec": {
   "display_name": "Python 3 (ipykernel)",
   "language": "python",
   "name": "python3"
  },
  "language_info": {
   "codemirror_mode": {
    "name": "ipython",
    "version": 3
   },
   "file_extension": ".py",
   "mimetype": "text/x-python",
   "name": "python",
   "nbconvert_exporter": "python",
   "pygments_lexer": "ipython3",
   "version": "3.9.6"
  },
  "vscode": {
   "interpreter": {
    "hash": "376f96d3f3f5ce4206cc1349c11da7b9af3d9066ec457dbbb844270de3af9965"
   }
  }
 },
 "nbformat": 4,
 "nbformat_minor": 5
}
